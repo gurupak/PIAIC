{
 "cells": [
  {
   "cell_type": "markdown",
   "metadata": {},
   "source": [
    "                                                 Basic Numpy Exercises \n",
    "                                               Compiled by: Dr. Noman Islam"
   ]
  },
  {
   "cell_type": "markdown",
   "metadata": {},
   "source": [
    "#### 1. Generate a 1D NumPy array containing numbers from -2 to 2 in increments of 0.2. Use optional start and step arguments of np.arange() function."
   ]
  },
  {
   "cell_type": "code",
   "execution_count": 9,
   "metadata": {},
   "outputs": [
    {
     "name": "stdout",
     "output_type": "stream",
     "text": [
      "[-2.0000000e+00 -1.8000000e+00 -1.6000000e+00 -1.4000000e+00\n",
      " -1.2000000e+00 -1.0000000e+00 -8.0000000e-01 -6.0000000e-01\n",
      " -4.0000000e-01 -2.0000000e-01 -4.4408921e-16  2.0000000e-01\n",
      "  4.0000000e-01  6.0000000e-01  8.0000000e-01  1.0000000e+00\n",
      "  1.2000000e+00  1.4000000e+00  1.6000000e+00  1.8000000e+00\n",
      "  2.0000000e+00]\n"
     ]
    }
   ],
   "source": [
    "import numpy as np\n",
    "arr = np.arange(-2, 2.1, 0.2)\n",
    "print(arr)"
   ]
  },
  {
   "cell_type": "markdown",
   "metadata": {},
   "source": [
    "#### 2. Generate another 1D NumPy array containing 11 equally spaced values between 0.5 and 1.5. Extract every second element of the array"
   ]
  },
  {
   "cell_type": "code",
   "execution_count": 11,
   "metadata": {},
   "outputs": [
    {
     "name": "stdout",
     "output_type": "stream",
     "text": [
      "[0.5 0.7 0.9 1.1 1.3 1.5]\n"
     ]
    }
   ],
   "source": [
    "import numpy as np\n",
    "\n",
    "# Generate an array of 11 equally spaced values between 0.5 and 1.5\n",
    "arr = np.linspace(0.5, 1.5, 11)\n",
    "\n",
    "# Extract every second element of the array\n",
    "arr_every_second = arr[::2]\n",
    "print(arr_every_second)"
   ]
  },
  {
   "cell_type": "markdown",
   "metadata": {},
   "source": [
    "#### 3. Create a 4x4 array with arbitrary values.Extract every element from the second row.\n"
   ]
  },
  {
   "cell_type": "code",
   "execution_count": 12,
   "metadata": {},
   "outputs": [
    {
     "name": "stdout",
     "output_type": "stream",
     "text": [
      "[5 6 7 8]\n"
     ]
    }
   ],
   "source": [
    "import numpy as np\n",
    "\n",
    "# Create a 4x4 array with arbitrary values\n",
    "arr = np.array([[1, 2, 3, 4],\n",
    "                [5, 6, 7, 8],\n",
    "                [9, 10, 11, 12],\n",
    "                [13, 14, 15, 16]])\n",
    "\n",
    "# Extract every element from the second row\n",
    "second_row = arr[1, :]\n",
    "print(second_row)"
   ]
  },
  {
   "cell_type": "markdown",
   "metadata": {},
   "source": [
    "#### 4. Extract every element from the third column"
   ]
  },
  {
   "cell_type": "code",
   "execution_count": 14,
   "metadata": {},
   "outputs": [
    {
     "name": "stdout",
     "output_type": "stream",
     "text": [
      "[ 3  7 11 15]\n"
     ]
    }
   ],
   "source": [
    "third_col = arr[:, 2]\n",
    "print(third_col)"
   ]
  },
  {
   "cell_type": "markdown",
   "metadata": {},
   "source": [
    "#### 5. Assign a value of 0.21 to upper left 2x2 subarray."
   ]
  },
  {
   "cell_type": "code",
   "execution_count": 18,
   "metadata": {},
   "outputs": [
    {
     "name": "stdout",
     "output_type": "stream",
     "text": [
      "[[ 0.21  0.21  3.    4.  ]\n",
      " [ 0.21  0.21  7.    8.  ]\n",
      " [ 9.   10.   11.   12.  ]\n",
      " [13.   14.   15.   16.  ]]\n"
     ]
    }
   ],
   "source": [
    "import numpy as np\n",
    "\n",
    "# Create a 4x4 array with arbitrary values\n",
    "arr = np.array([[1, 2, 3, 4],\n",
    "                [5, 6, 7, 8],\n",
    "                [9, 10, 11, 12],\n",
    "                [13, 14, 15, 16]], dtype='float')\n",
    "\n",
    "# Assign a value of 0.21 to the upper left 2x2 subarray\n",
    "arr[:2, :2] = 0.21\n",
    "print(arr)"
   ]
  },
  {
   "cell_type": "markdown",
   "metadata": {},
   "source": [
    "#### 6. Read an 2D array from the file exercise1_4.dat. You can usethe function np.loadtxt():\n",
    "data = np.loadtxt(‘exercise1_4.dat’)\n",
    "\n",
    "#### Split the array into four subblocks (upper left, upper right, lower left, lower right) using np.split(). Construct then the full array again with np.concatenate(). You can visualize the various arrays with matplotlib’s imshow(), i.e. import pylab pylab.imshow(data)"
   ]
  },
  {
   "cell_type": "code",
   "execution_count": 25,
   "metadata": {},
   "outputs": [
    {
     "name": "stdout",
     "output_type": "stream",
     "text": [
      "[[0.]\n",
      " [0.]] - [[ 1.]\n",
      " [10.]]\n",
      "[[0.]\n",
      " [0.]] - [[ 1.]\n",
      " [10.]]\n",
      "[[ 0.  1.]\n",
      " [ 0. 10.]\n",
      " [ 0.  0.]]\n"
     ]
    },
    {
     "data": {
      "image/png": "[encoded data removed]",
      "text/plain": [
       "<Figure size 432x288 with 8 Axes>"
      ]
     },
     "metadata": {
      "needs_background": "light"
     },
     "output_type": "display_data"
    }
   ],
   "source": [
    "import numpy as np\n",
    "import matplotlib.pyplot as plt\n",
    "\n",
    "# Load the data from the file\n",
    "data = np.loadtxt('exercise1_4.dat')\n",
    "\n",
    "# Split the data into four subblocks\n",
    "upper_left, upper_right = np.split(data, 2, axis=1)\n",
    "lower_left, lower_right = np.split(upper_left, 2)\n",
    "print(upper_left, '-',  upper_right)\n",
    "print(upper_left, '-', upper_right)\n",
    "\n",
    "# Construct the full array again\n",
    "full_array = np.concatenate((np.concatenate((upper_left, upper_right), axis=1),\n",
    "                              np.concatenate((lower_left, lower_right), axis=1)),\n",
    "                             axis=0)\n",
    "\n",
    "print(full_array)\n",
    "# Visualize the various arrays\n",
    "plt.subplot(2, 2, 1)\n",
    "plt.imshow(upper_left)\n",
    "plt.title('Upper Left')\n",
    "plt.colorbar()\n",
    "\n",
    "plt.subplot(2, 2, 2)\n",
    "plt.imshow(upper_right)\n",
    "plt.title('Upper Right')\n",
    "plt.colorbar()\n",
    "\n",
    "plt.subplot(2, 2, 3)\n",
    "plt.imshow(lower_left)\n",
    "plt.title('Lower Left')\n",
    "plt.colorbar()\n",
    "\n",
    "plt.subplot(2, 2, 4)\n",
    "plt.imshow(lower_right)\n",
    "plt.title('Lower Right')\n",
    "plt.colorbar()\n",
    "\n",
    "plt.tight_layout()\n",
    "plt.show()"
   ]
  },
  {
   "cell_type": "code",
   "execution_count": null,
   "metadata": {},
   "outputs": [],
   "source": []
  }
 ],
 "metadata": {
  "kernelspec": {
   "display_name": "Python 3 (ipykernel)",
   "language": "python",
   "name": "python3"
  },
  "language_info": {
   "codemirror_mode": {
    "name": "ipython",
    "version": 3
   },
   "file_extension": ".py",
   "mimetype": "text/x-python",
   "name": "python",
   "nbconvert_exporter": "python",
   "pygments_lexer": "ipython3",
   "version": "3.9.12"
  }
 },
 "nbformat": 4,
 "nbformat_minor": 1
}
