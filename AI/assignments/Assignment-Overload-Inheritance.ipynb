{
 "cells": [
  {
   "cell_type": "markdown",
   "id": "9a99c640",
   "metadata": {},
   "source": [
    "# Assignment: Class 13_AIC\n",
    "\n",
    "Irfan Ahmed<br>\n",
    "Roll No. PIAIC178547<br>\n",
    "Batch 37 - Online<br>\n",
    "\n",
    "## Task 1\n",
    "1. import mother and father attribute\n",
    "2. add two new attributes in the child constructor"
   ]
  },
  {
   "cell_type": "code",
   "execution_count": 65,
   "id": "43326a18",
   "metadata": {},
   "outputs": [],
   "source": [
    "class Father():\n",
    "    def __init__(self, name, lname):\n",
    "        self.name = name \n",
    "        self.lname = lname\n",
    "        self.age = None\n",
    "        self.drive = None\n",
    "    \n",
    "    def setAge(self, age):\n",
    "        self.age = age\n",
    "        \n",
    "    def setDrive(self, drive):\n",
    "        self.drive = drive\n",
    "        \n",
    "    def __str__(self):\n",
    "        return f\"Name: {self.name} {self.lname}, Age: {self.age}, Drive: {self.drive}\""
   ]
  },
  {
   "cell_type": "code",
   "execution_count": 66,
   "id": "013600d1",
   "metadata": {},
   "outputs": [],
   "source": [
    "class Mother():\n",
    "    def __init__(self, name):\n",
    "        self.name = name\n",
    "        self.color = None\n",
    "        self.cook = None\n",
    "        \n",
    "    def setColor(self, color):\n",
    "        self.color = color\n",
    "        \n",
    "    def setCook(self, cook):\n",
    "        self.cook = cook\n",
    "        \n",
    "    def __str__(self):\n",
    "        return f\"Name: {self.name}, Color: {self.color}, Cook: {self.cook}\""
   ]
  },
  {
   "cell_type": "code",
   "execution_count": 67,
   "id": "1fa7a4bc",
   "metadata": {},
   "outputs": [],
   "source": [
    "class Child(Father, Mother):\n",
    "    def __init__(self, name):\n",
    "        self.name = name\n",
    "        self.inClass = None\n",
    "        self.sports = None\n",
    "        \n",
    "    def setClass(self, inclass):\n",
    "        self.inClass = inclass\n",
    "        \n",
    "    def setSports(self, sports):\n",
    "        self.sports = sports\n",
    "        \n",
    "    def __str__(self):\n",
    "        return f\"Name: {self.name}, Class: {self.inClass}, Sports: {self.sports}\""
   ]
  },
  {
   "cell_type": "code",
   "execution_count": 68,
   "id": "2aeb8bcc",
   "metadata": {},
   "outputs": [
    {
     "name": "stdout",
     "output_type": "stream",
     "text": [
      "['inClass', 'name', 'setAge', 'setClass', 'setColor', 'setCook', 'setDrive', 'setSports', 'sports']\n"
     ]
    }
   ],
   "source": [
    "chld1 = Child('Irfan')\n",
    "print([i for i in dir(chld1) if \"__\" not in i])"
   ]
  },
  {
   "cell_type": "code",
   "execution_count": 70,
   "id": "15b06adf",
   "metadata": {},
   "outputs": [
    {
     "name": "stdout",
     "output_type": "stream",
     "text": [
      "Name: Javed Iqbal, Age: None, Drive: None\n",
      "['age', 'drive', 'lname', 'name', 'setAge', 'setDrive']\n"
     ]
    }
   ],
   "source": [
    "par = Father('Javed', 'Iqbal')\n",
    "print(par)\n",
    "print([i for i in dir(par) if \"__\" not in i])"
   ]
  },
  {
   "cell_type": "code",
   "execution_count": null,
   "id": "7e9b0ed5",
   "metadata": {},
   "outputs": [],
   "source": []
  },
  {
   "cell_type": "markdown",
   "id": "94c251e8",
   "metadata": {},
   "source": [
    "# Operator Overloading \n",
    "\n",
    "## Add two matrix class\n",
    "\n",
    "Task 2"
   ]
  },
  {
   "cell_type": "code",
   "execution_count": 40,
   "id": "b48238a5",
   "metadata": {},
   "outputs": [],
   "source": [
    "class Matrix():\n",
    "    def __init__(self, matrix):\n",
    "        self.val = matrix\n",
    "        \n",
    "    def __add__(self, secMatrix):\n",
    "        addMatrix = [[0,0,0],[0,0,0],[0,0,0]]\n",
    "        for i in range(len(self.val)):\n",
    "            for j in range(len(self.val[0])):\n",
    "                addMatrix[i][j] = self.val[i][j] + secMatrix.val[i][j]\n",
    "                \n",
    "        return Matrix(addMatrix)\n",
    "    \n",
    "    def __str__(self):\n",
    "        output = \"\"\n",
    "        import re\n",
    "        \n",
    "        for i in range(len(self.val)):\n",
    "            output += \"[\"\n",
    "            for j in range(len(self.val[0])):\n",
    "                output += str(self.val[i][j]) + \", \"\n",
    "            output = re.sub(', $', '', output)\n",
    "            output += \"],\"\n",
    "        \n",
    "        output = re.sub(',$', '', output)\n",
    "        output = \"[\" + output + \"]\"\n",
    "        return output"
   ]
  },
  {
   "cell_type": "code",
   "execution_count": 41,
   "id": "319228bd",
   "metadata": {},
   "outputs": [],
   "source": [
    "mat1 = [[12,7,3],[2,3,6],[6,2,5]]\n",
    "myMat = Matrix(mat1)\n",
    "mat2 = [[1,3,4], [46,4,5], [3,5,6]]\n",
    "myMat2 = Matrix(mat2)"
   ]
  },
  {
   "cell_type": "code",
   "execution_count": 43,
   "id": "ae84432e",
   "metadata": {},
   "outputs": [
    {
     "data": {
      "text/plain": [
       "[[12, 7, 3], [2, 3, 6], [6, 2, 5]]"
      ]
     },
     "execution_count": 43,
     "metadata": {},
     "output_type": "execute_result"
    }
   ],
   "source": [
    "mat1"
   ]
  },
  {
   "cell_type": "code",
   "execution_count": 71,
   "id": "c670aef2",
   "metadata": {},
   "outputs": [
    {
     "data": {
      "text/plain": [
       "[[1, 3, 4], [46, 4, 5], [3, 5, 6]]"
      ]
     },
     "execution_count": 71,
     "metadata": {},
     "output_type": "execute_result"
    }
   ],
   "source": [
    "mat2"
   ]
  },
  {
   "cell_type": "code",
   "execution_count": 42,
   "id": "e77a34bf",
   "metadata": {},
   "outputs": [
    {
     "name": "stdout",
     "output_type": "stream",
     "text": [
      "[[13, 10, 7],[48, 7, 11],[9, 7, 11]]\n"
     ]
    }
   ],
   "source": [
    "print(myMat + myMat2)"
   ]
  }
 ],
 "metadata": {
  "kernelspec": {
   "display_name": "Python 3 (ipykernel)",
   "language": "python",
   "name": "python3"
  },
  "language_info": {
   "codemirror_mode": {
    "name": "ipython",
    "version": 3
   },
   "file_extension": ".py",
   "mimetype": "text/x-python",
   "name": "python",
   "nbconvert_exporter": "python",
   "pygments_lexer": "ipython3",
   "version": "3.9.12"
  }
 },
 "nbformat": 4,
 "nbformat_minor": 5
}
